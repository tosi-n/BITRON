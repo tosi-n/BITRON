{
 "nbformat": 4,
 "nbformat_minor": 2,
 "metadata": {
  "language_info": {
   "name": "python",
   "codemirror_mode": {
    "name": "ipython",
    "version": 3
   },
   "version": "3.6.8-final"
  },
  "orig_nbformat": 2,
  "file_extension": ".py",
  "mimetype": "text/x-python",
  "name": "python",
  "npconvert_exporter": "python",
  "pygments_lexer": "ipython3",
  "version": 3,
  "kernelspec": {
   "name": "python36864bitbitronvirtualenv06ea2e62e7194357a4ffeeabcadac8df",
   "display_name": "Python 3.6.8 64-bit ('bitron': virtualenv)"
  }
 },
 "cells": [
  {
   "cell_type": "code",
   "execution_count": 1,
   "metadata": {},
   "outputs": [],
   "source": [
    "# import json  \n",
    "# from pandas.io.json import json_normalize\n",
    "import numpy as np\n",
    "import pandas as pd\n",
    "from sklearn.model_selection import train_test_split\n",
    "import warnings"
   ]
  },
  {
   "cell_type": "code",
   "execution_count": null,
   "metadata": {},
   "outputs": [],
   "source": [
    "data = pd.read_html(“https://en.wikipedia.org/wiki/Super_Bowl_LIV\")\n",
    "data.head()"
   ]
  },
  {
   "cell_type": "code",
   "execution_count": 96,
   "metadata": {},
   "outputs": [],
   "source": [
    "# # Use of json directly from python\n",
    "# with open(\"/Volumes/Loopdisk/Clin-Trial-Elig-Classifier/data/sars_ct.json\") as f: \n",
    "#     d = json.load(f)\n",
    "\n",
    "# works_data = json_normalize(data = d['FullStudiesResponse'], \n",
    "#                             record_path =['FullStudies', 'Study', 'ProtocolSection']) \n",
    "# works_data.head(10)\n",
    "\n",
    "# def extract_values(obj_json, key):\n",
    "#     \"\"\"Pull all values of specified key from nested JSON.\"\"\"\n",
    "#     arr = []\n",
    "\n",
    "#     def extract(obj, arr, key):\n",
    "#         \"\"\"Recursively search for values of key in JSON tree.\"\"\"\n",
    "#         if isinstance(obj, dict):\n",
    "#             for k, v in obj.items():\n",
    "#                 if isinstance(v, (dict, list)):\n",
    "#                     extract(v, arr, key)\n",
    "#                 elif k == key:\n",
    "#                     arr.append(v)\n",
    "#         elif isinstance(obj, list):\n",
    "#             for item in obj:\n",
    "#                 extract(item, arr, key)\n",
    "#         return arr\n",
    "\n",
    "#     results = extract(obj, arr, key)\n",
    "#     return results"
   ]
  },
  {
   "cell_type": "code",
   "execution_count": 51,
   "metadata": {},
   "outputs": [],
   "source": []
  },
  {
   "cell_type": "code",
   "execution_count": 102,
   "metadata": {},
   "outputs": [
    {
     "output_type": "execute_result",
     "data": {
      "text/plain": "   ID  label                                     ct_eligibility\n0   1      0  The purpose of this study is to understand how...\n1   2      0  This is a multi-center, randomized, double-bli...\n2   3      0  Severe acute respiratory syndrome (SARS) is a ...\n3   4      0  Evaluate the efficacy of treatment with high-t...\n4   5      0  Primary Objective:\\n\\nTo determine the excreti...",
      "text/html": "<div>\n<style scoped>\n    .dataframe tbody tr th:only-of-type {\n        vertical-align: middle;\n    }\n\n    .dataframe tbody tr th {\n        vertical-align: top;\n    }\n\n    .dataframe thead th {\n        text-align: right;\n    }\n</style>\n<table border=\"1\" class=\"dataframe\">\n  <thead>\n    <tr style=\"text-align: right;\">\n      <th></th>\n      <th>ID</th>\n      <th>label</th>\n      <th>ct_eligibility</th>\n    </tr>\n  </thead>\n  <tbody>\n    <tr>\n      <th>0</th>\n      <td>1</td>\n      <td>0</td>\n      <td>The purpose of this study is to understand how...</td>\n    </tr>\n    <tr>\n      <th>1</th>\n      <td>2</td>\n      <td>0</td>\n      <td>This is a multi-center, randomized, double-bli...</td>\n    </tr>\n    <tr>\n      <th>2</th>\n      <td>3</td>\n      <td>0</td>\n      <td>Severe acute respiratory syndrome (SARS) is a ...</td>\n    </tr>\n    <tr>\n      <th>3</th>\n      <td>4</td>\n      <td>0</td>\n      <td>Evaluate the efficacy of treatment with high-t...</td>\n    </tr>\n    <tr>\n      <th>4</th>\n      <td>5</td>\n      <td>0</td>\n      <td>Primary Objective:\\n\\nTo determine the excreti...</td>\n    </tr>\n  </tbody>\n</table>\n</div>"
     },
     "metadata": {},
     "execution_count": 102
    }
   ],
   "source": [
    "np.random.seed(1)\n",
    "\n",
    "warnings.filterwarnings(\"ignore\")\n",
    "\n",
    "df = pd.read_csv('/Volumes/Loopdisk/Clin-Trial-Elig-Classifier/data/sars_ct.csv')\n",
    "\n",
    "df.drop(['Unnamed: 0'], axis=1, inplace=True)\n",
    "\n",
    "list(df.columns)\n",
    "\n",
    "# df.head()\n",
    "\n",
    "new_label = []\n",
    "label = df['label']\n",
    "for i in range(len(label)):\n",
    "    new_label.append(1 if label[i]=='EligibilityCriteria' else 0)\n",
    "\n",
    "df[\"label\"] = pd.Series(new_label)\n",
    "                \n",
    "# df = df.rename(label)\n",
    "df.head()"
   ]
  },
  {
   "cell_type": "code",
   "execution_count": 95,
   "metadata": {},
   "outputs": [
    {
     "output_type": "execute_result",
     "data": {
      "text/plain": "   ID label                                     ct_eligibility\n0   1     0  The purpose of this study is to understand how...\n1   2     0  This is a multi-center, randomized, double-bli...\n2   3     0  Severe acute respiratory syndrome (SARS) is a ...\n3   4     0  Evaluate the efficacy of treatment with high-t...\n4   5     0  Primary Objective:\\n\\nTo determine the excreti...",
      "text/html": "<div>\n<style scoped>\n    .dataframe tbody tr th:only-of-type {\n        vertical-align: middle;\n    }\n\n    .dataframe tbody tr th {\n        vertical-align: top;\n    }\n\n    .dataframe thead th {\n        text-align: right;\n    }\n</style>\n<table border=\"1\" class=\"dataframe\">\n  <thead>\n    <tr style=\"text-align: right;\">\n      <th></th>\n      <th>ID</th>\n      <th>label</th>\n      <th>ct_eligibility</th>\n    </tr>\n  </thead>\n  <tbody>\n    <tr>\n      <th>0</th>\n      <td>1</td>\n      <td>0</td>\n      <td>The purpose of this study is to understand how...</td>\n    </tr>\n    <tr>\n      <th>1</th>\n      <td>2</td>\n      <td>0</td>\n      <td>This is a multi-center, randomized, double-bli...</td>\n    </tr>\n    <tr>\n      <th>2</th>\n      <td>3</td>\n      <td>0</td>\n      <td>Severe acute respiratory syndrome (SARS) is a ...</td>\n    </tr>\n    <tr>\n      <th>3</th>\n      <td>4</td>\n      <td>0</td>\n      <td>Evaluate the efficacy of treatment with high-t...</td>\n    </tr>\n    <tr>\n      <th>4</th>\n      <td>5</td>\n      <td>0</td>\n      <td>Primary Objective:\\n\\nTo determine the excreti...</td>\n    </tr>\n  </tbody>\n</table>\n</div>"
     },
     "metadata": {},
     "execution_count": 95
    }
   ],
   "source": [
    "df1 = pd.read_csv('/Volumes/Loopdisk/Clin-Trial-Elig-Classifier/data/sars_ct.csv', index_col='label')\n",
    "\n",
    "label = {'BriefSummary':'0', 'DetailedDescription':'0', 'EligibilityCriteria':'1'} \n",
    "\n",
    "df = df1.rename(index = label).reset_index()\n",
    "\n",
    "# df = df.set_index('Unnamed: 0', drop=False).rename_axis(None)\n",
    "\n",
    "\n",
    "df = df[['ID', 'label', 'ct_eligibility']]\n",
    "\n",
    "df.head()"
   ]
  },
  {
   "cell_type": "code",
   "execution_count": 116,
   "metadata": {},
   "outputs": [
    {
     "output_type": "execute_result",
     "data": {
      "text/plain": "       ID  label                                     ct_eligibility\n1017   18      1  Inclusion criteria:\\n\\nHistologically or cytol...\n188   189      0  The (World Health Organization) WHO NOR- (Coro...\n189   190      0  Primary Objective:\\n\\nTo assess tolerability a...\n1422  423      1  Inclusion criteria :\\n\\nChildren 6 to <12 year...\n1227  228      1  Inclusion Criteria:\\n\\nRegistration as patient...",
      "text/html": "<div>\n<style scoped>\n    .dataframe tbody tr th:only-of-type {\n        vertical-align: middle;\n    }\n\n    .dataframe tbody tr th {\n        vertical-align: top;\n    }\n\n    .dataframe thead th {\n        text-align: right;\n    }\n</style>\n<table border=\"1\" class=\"dataframe\">\n  <thead>\n    <tr style=\"text-align: right;\">\n      <th></th>\n      <th>ID</th>\n      <th>label</th>\n      <th>ct_eligibility</th>\n    </tr>\n  </thead>\n  <tbody>\n    <tr>\n      <th>1017</th>\n      <td>18</td>\n      <td>1</td>\n      <td>Inclusion criteria:\\n\\nHistologically or cytol...</td>\n    </tr>\n    <tr>\n      <th>188</th>\n      <td>189</td>\n      <td>0</td>\n      <td>The (World Health Organization) WHO NOR- (Coro...</td>\n    </tr>\n    <tr>\n      <th>189</th>\n      <td>190</td>\n      <td>0</td>\n      <td>Primary Objective:\\n\\nTo assess tolerability a...</td>\n    </tr>\n    <tr>\n      <th>1422</th>\n      <td>423</td>\n      <td>1</td>\n      <td>Inclusion criteria :\\n\\nChildren 6 to &lt;12 year...</td>\n    </tr>\n    <tr>\n      <th>1227</th>\n      <td>228</td>\n      <td>1</td>\n      <td>Inclusion Criteria:\\n\\nRegistration as patient...</td>\n    </tr>\n  </tbody>\n</table>\n</div>"
     },
     "metadata": {},
     "execution_count": 116
    }
   ],
   "source": [
    "np.random.seed(1)\n",
    "train, test = train_test_split(df, test_size=0.3)\n",
    "train.head()"
   ]
  },
  {
   "cell_type": "code",
   "execution_count": 117,
   "metadata": {},
   "outputs": [
    {
     "output_type": "execute_result",
     "data": {
      "text/plain": "       id  label alpha                                               text\n1017   18      1     a  Inclusion criteria:  Histologically or cytolog...\n188   189      0     a  The (World Health Organization) WHO NOR- (Coro...\n189   190      0     a  Primary Objective:  To assess tolerability and...\n1422  423      1     a  Inclusion criteria :  Children 6 to <12 years ...\n1227  228      1     a  Inclusion Criteria:  Registration as patient i...",
      "text/html": "<div>\n<style scoped>\n    .dataframe tbody tr th:only-of-type {\n        vertical-align: middle;\n    }\n\n    .dataframe tbody tr th {\n        vertical-align: top;\n    }\n\n    .dataframe thead th {\n        text-align: right;\n    }\n</style>\n<table border=\"1\" class=\"dataframe\">\n  <thead>\n    <tr style=\"text-align: right;\">\n      <th></th>\n      <th>id</th>\n      <th>label</th>\n      <th>alpha</th>\n      <th>text</th>\n    </tr>\n  </thead>\n  <tbody>\n    <tr>\n      <th>1017</th>\n      <td>18</td>\n      <td>1</td>\n      <td>a</td>\n      <td>Inclusion criteria:  Histologically or cytolog...</td>\n    </tr>\n    <tr>\n      <th>188</th>\n      <td>189</td>\n      <td>0</td>\n      <td>a</td>\n      <td>The (World Health Organization) WHO NOR- (Coro...</td>\n    </tr>\n    <tr>\n      <th>189</th>\n      <td>190</td>\n      <td>0</td>\n      <td>a</td>\n      <td>Primary Objective:  To assess tolerability and...</td>\n    </tr>\n    <tr>\n      <th>1422</th>\n      <td>423</td>\n      <td>1</td>\n      <td>a</td>\n      <td>Inclusion criteria :  Children 6 to &lt;12 years ...</td>\n    </tr>\n    <tr>\n      <th>1227</th>\n      <td>228</td>\n      <td>1</td>\n      <td>a</td>\n      <td>Inclusion Criteria:  Registration as patient i...</td>\n    </tr>\n  </tbody>\n</table>\n</div>"
     },
     "metadata": {},
     "execution_count": 117
    }
   ],
   "source": [
    "train_df_bert = pd.DataFrame({\n",
    "    'id':train['ID'],\n",
    "    'label':train['label'],\n",
    "    'alpha':['a']*train.shape[0],\n",
    "    'text': train['ct_eligibility'].replace(r'\\n', ' ', regex=True)\n",
    "})\n",
    "\n",
    "train_df_bert.head()"
   ]
  },
  {
   "cell_type": "code",
   "execution_count": 118,
   "metadata": {},
   "outputs": [
    {
     "output_type": "execute_result",
     "data": {
      "text/plain": "       id  label alpha                                               text\n91     92      0     a  Primary Objective:  Injection Site Tolerabilit...\n75     76      0     a  Primary Objective:  Dose Ranging Phase: To eva...\n1264  265      1     a  Inclusion Criteria:  Male or female subject ag...\n330   331      0     a  Primary Objectives:  To assess the safety for ...\n1349  350      1     a  Inclusion Criteria:  Patients with locally adv...",
      "text/html": "<div>\n<style scoped>\n    .dataframe tbody tr th:only-of-type {\n        vertical-align: middle;\n    }\n\n    .dataframe tbody tr th {\n        vertical-align: top;\n    }\n\n    .dataframe thead th {\n        text-align: right;\n    }\n</style>\n<table border=\"1\" class=\"dataframe\">\n  <thead>\n    <tr style=\"text-align: right;\">\n      <th></th>\n      <th>id</th>\n      <th>label</th>\n      <th>alpha</th>\n      <th>text</th>\n    </tr>\n  </thead>\n  <tbody>\n    <tr>\n      <th>91</th>\n      <td>92</td>\n      <td>0</td>\n      <td>a</td>\n      <td>Primary Objective:  Injection Site Tolerabilit...</td>\n    </tr>\n    <tr>\n      <th>75</th>\n      <td>76</td>\n      <td>0</td>\n      <td>a</td>\n      <td>Primary Objective:  Dose Ranging Phase: To eva...</td>\n    </tr>\n    <tr>\n      <th>1264</th>\n      <td>265</td>\n      <td>1</td>\n      <td>a</td>\n      <td>Inclusion Criteria:  Male or female subject ag...</td>\n    </tr>\n    <tr>\n      <th>330</th>\n      <td>331</td>\n      <td>0</td>\n      <td>a</td>\n      <td>Primary Objectives:  To assess the safety for ...</td>\n    </tr>\n    <tr>\n      <th>1349</th>\n      <td>350</td>\n      <td>1</td>\n      <td>a</td>\n      <td>Inclusion Criteria:  Patients with locally adv...</td>\n    </tr>\n  </tbody>\n</table>\n</div>"
     },
     "metadata": {},
     "execution_count": 118
    }
   ],
   "source": [
    "\n",
    "dev_df_bert = pd.DataFrame({\n",
    "    'id':test['ID'],\n",
    "    'label':test['label'],\n",
    "    'alpha':['a']*test.shape[0],\n",
    "    'text': test['ct_eligibility'].replace(r'\\n', ' ', regex=True)\n",
    "})\n",
    "\n",
    "dev_df_bert.head()"
   ]
  },
  {
   "cell_type": "code",
   "execution_count": 120,
   "metadata": {},
   "outputs": [],
   "source": [
    "train_df_bert.to_csv('/Volumes/Loopdisk/Clin-Trial-Elig-Classifier/data/train.tsv', sep='\\t', index=False, header=False)\n",
    "dev_df_bert.to_csv('/Volumes/Loopdisk/Clin-Trial-Elig-Classifier/data/dev.tsv', sep='\\t', index=False, header=False)"
   ]
  },
  {
   "cell_type": "code",
   "execution_count": null,
   "metadata": {},
   "outputs": [],
   "source": [
    "train_simp_bert = pd.DataFrame({\n",
    "    'id':train['ID'],\n",
    "    '1':train['label'],\n",
    "    'alpha':['a']*train.shape[0],\n",
    "    '0': train['ct_eligibility'].replace(r'\\n', ' ', regex=True)\n",
    "})\n",
    "train_simp_bert = [['0', '1']]\n",
    "train_simp_bert.head()"
   ]
  },
  {
   "cell_type": "code",
   "execution_count": null,
   "metadata": {},
   "outputs": [],
   "source": [
    "dev_simp_bert = pd.DataFrame({\n",
    "    'id':test['ID'],\n",
    "    '1':test['label'],\n",
    "    'alpha':['a']*test.shape[0],\n",
    "    '0': test['ct_eligibility'].replace(r'\\n', ' ', regex=True)\n",
    "})\n",
    "dev_simp_bert = [['0', '1']]\n",
    "dev_simp_bert.head()"
   ]
  },
  {
   "cell_type": "code",
   "execution_count": null,
   "metadata": {},
   "outputs": [],
   "source": [
    "train_simp_bert.to_csv('/Volumes/Loopdisk/Clin-Trial-Elig-Classifier/data/train.csv', sep='\\t', index=False, header=False)\n",
    "dev_simp_bert.to_csv('/Volumes/Loopdisk/Clin-Trial-Elig-Classifier/data/dev.csv', sep='\\t', index=False, header=False)"
   ]
  }
 ]
}